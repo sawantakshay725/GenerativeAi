{
 "cells": [
  {
   "cell_type": "markdown",
   "id": "fa31b653-d5eb-4ef4-a781-da66c2a47183",
   "metadata": {},
   "source": [
    "## BUSINESS CHALLENGE:\n",
    "#### Create a product that builds a Brochure for a company to be used for prospective clients, investors and potential recruits into English, Spanish and Marathi Or jokey brochure.\n",
    "\n",
    "#### We will be provided a company name and their primary website."
   ]
  },
  {
   "cell_type": "code",
   "execution_count": 1,
   "id": "137c8fc8-2359-4d92-b34a-e1f889a2214c",
   "metadata": {},
   "outputs": [],
   "source": [
    "# imports\n",
    "# If these fail, please check you're running from an 'activated' environment with (llms) in the command prompt\n",
    "\n",
    "import os\n",
    "import requests\n",
    "import json\n",
    "from typing import List\n",
    "from dotenv import load_dotenv\n",
    "from bs4 import BeautifulSoup\n",
    "from IPython.display import Markdown, display, update_display\n",
    "from openai import OpenAI"
   ]
  },
  {
   "cell_type": "code",
   "execution_count": 2,
   "id": "af192e79-e9c5-4a45-b817-e5d36e479257",
   "metadata": {},
   "outputs": [
    {
     "name": "stdout",
     "output_type": "stream",
     "text": [
      "API key looks good so far\n"
     ]
    }
   ],
   "source": [
    "# Initialize and constants\n",
    "\n",
    "load_dotenv(override=True)\n",
    "api_key = os.getenv('OPENAI_API_KEY')\n",
    "\n",
    "if api_key and api_key.startswith('sk-proj-') and len(api_key)>10:\n",
    "    print(\"API key looks good so far\")\n",
    "else:\n",
    "    print(\"There might be a problem with your API key? Please visit the troubleshooting notebook!\")\n",
    "    \n",
    "MODEL = 'gpt-4o-mini'\n",
    "openai = OpenAI()"
   ]
  },
  {
   "cell_type": "code",
   "execution_count": 3,
   "id": "39cc9d6d-af76-4d30-85ed-3e4b29e69c70",
   "metadata": {},
   "outputs": [],
   "source": [
    "# A class to represent a Webpage\n",
    "\n",
    "# Some websites need you to use proper headers when fetching them:\n",
    "headers = {\n",
    " \"User-Agent\": \"Mozilla/5.0 (Windows NT 10.0; Win64; x64) AppleWebKit/537.36 (KHTML, like Gecko) Chrome/117.0.0.0 Safari/537.36\"\n",
    "}\n",
    "\n",
    "class Website:\n",
    "    \"\"\"\n",
    "    A utility class to represent a Website that we have scraped, now with links\n",
    "    \"\"\"\n",
    "\n",
    "    def __init__(self, url):\n",
    "        self.url = url\n",
    "        response = requests.get(url, headers=headers)\n",
    "        self.body = response.content\n",
    "        soup = BeautifulSoup(self.body, 'html.parser')\n",
    "        self.title = soup.title.string if soup.title else \"No title found\"\n",
    "        if soup.body:\n",
    "            for irrelevant in soup.body([\"script\", \"style\", \"img\", \"input\"]):\n",
    "                irrelevant.decompose()\n",
    "            self.text = soup.body.get_text(separator=\"\\n\", strip=True)\n",
    "        else:\n",
    "            self.text = \"\"\n",
    "        links = [link.get('href') for link in soup.find_all('a')]\n",
    "        self.links = [link for link in links if link]\n",
    "\n",
    "    def get_contents(self):\n",
    "        return f\"Webpage Title:\\n{self.title}\\nWebpage Contents:\\n{self.text}\\n\\n\""
   ]
  },
  {
   "cell_type": "markdown",
   "id": "d7d423af-068d-42a7-83c8-07f51e46e14d",
   "metadata": {},
   "source": [
    "## First step: Have GPT-4o-mini figure out which links are relevant\n",
    "\n",
    "### Use a call to gpt-4o-mini to read the links on a webpage, and respond in structured JSON.  \n",
    "It should decide which links are relevant, and replace relative links such as \"/about\" with \"https://company.com/about\".  \n",
    "We will use \"one shot prompting\" in which we provide an example of how it should respond in the prompt.\n",
    "\n",
    "This is an excellent use case for an LLM, because it requires nuanced understanding. Imagine trying to code this without LLMs by parsing and analyzing the webpage - it would be very hard!\n",
    "\n",
    "Sidenote: there is a more advanced technique called \"Structured Outputs\" in which we require the model to respond according to a spec. We cover this technique in Week 8 during our autonomous Agentic AI project."
   ]
  },
  {
   "cell_type": "code",
   "execution_count": 5,
   "id": "40f716a8-9e03-4c6a-b45b-3447d6c91d33",
   "metadata": {},
   "outputs": [],
   "source": [
    "link_system_prompt = \"You are provided with a list of links found on a webpage. \\\n",
    "You are able to decide which of the links would be most relevant to include in a brochure about the company, \\\n",
    "such as links to an About page, or a Company page, or Careers/Jobs pages.\\n\"\n",
    "link_system_prompt += \"You should respond in JSON as in this example:\"\n",
    "link_system_prompt += \"\"\"\n",
    "{\n",
    "    \"links\": [\n",
    "        {\"type\": \"about page\", \"url\": \"https://full.url/goes/here/about\"},\n",
    "        {\"type\": \"careers page\": \"url\": \"https://another.full.url/careers\"}\n",
    "    ]\n",
    "}\n",
    "\"\"\""
   ]
  },
  {
   "cell_type": "code",
   "execution_count": 6,
   "id": "afd16d7a-b7b8-4465-94bf-9d95df11e343",
   "metadata": {},
   "outputs": [
    {
     "name": "stdout",
     "output_type": "stream",
     "text": [
      "You are provided with a list of links found on a webpage. You are able to decide which of the links would be most relevant to include in a brochure about the company, such as links to an About page, or a Company page, or Careers/Jobs pages.\n",
      "You should respond in JSON as in this example:\n",
      "{\n",
      "    \"links\": [\n",
      "        {\"type\": \"about page\", \"url\": \"https://full.url/goes/here/about\"},\n",
      "        {\"type\": \"careers page\": \"url\": \"https://another.full.url/careers\"}\n",
      "    ]\n",
      "}\n",
      "\n"
     ]
    }
   ],
   "source": [
    "print(link_system_prompt)"
   ]
  },
  {
   "cell_type": "code",
   "execution_count": 7,
   "id": "64bdca54-e508-4c91-950b-166bbb9d2d40",
   "metadata": {},
   "outputs": [],
   "source": [
    "def get_links_user_prompt(website):\n",
    "    user_prompt = f\"Here is the list of links on the website of {website.url} - \"\n",
    "    user_prompt += \"please decide which of these are relevant web links for a brochure about the company, respond with the full https URL in JSON format. \\\n",
    "Do not include Terms of Service, Privacy, email links.\\n\"\n",
    "    user_prompt += \"Links (some might be relative links):\\n\"\n",
    "    user_prompt += \"\\n\".join(website.links)\n",
    "    return user_prompt"
   ]
  },
  {
   "cell_type": "code",
   "execution_count": 8,
   "id": "3bd04bf2-d40a-4b2f-8dd8-5c0bcca35d35",
   "metadata": {},
   "outputs": [],
   "source": [
    "def get_links(url):\n",
    "    website = Website(url)\n",
    "    current_prompt = get_links_user_prompt(website)\n",
    "\n",
    "    # Multi-shot prompt\n",
    "    examples = [\n",
    "        {\n",
    "            \"user\": \"Links: https://companyx.com, https://companyx.com/about, https://companyx.com/careers\",\n",
    "            \"assistant\": json.dumps({\n",
    "                \"links\": [\n",
    "                    {\"type\": \"about page\", \"url\": \"https://companyx.com/about\"},\n",
    "                    {\"type\": \"careers page\", \"url\": \"https://companyx.com/careers\"}\n",
    "                ]\n",
    "            })\n",
    "        },\n",
    "        {\n",
    "            \"user\": \"Links: https://site.org, https://site.org/our-story, https://site.org/jobs, https://site.org/contact\",\n",
    "            \"assistant\": json.dumps({\n",
    "                \"links\": [\n",
    "                    {\"type\": \"about page\", \"url\": \"https://site.org/our-story\"},\n",
    "                    {\"type\": \"careers page\", \"url\": \"https://site.org/jobs\"}\n",
    "                ]\n",
    "            })\n",
    "        }\n",
    "    ]\n",
    "\n",
    "    # Construct the conversation with multi-shot examples\n",
    "    messages = [{\"role\": \"system\", \"content\": link_system_prompt}]\n",
    "    for ex in examples:\n",
    "        messages.append({\"role\": \"user\", \"content\": ex[\"user\"]})\n",
    "        messages.append({\"role\": \"assistant\", \"content\": ex[\"assistant\"]})\n",
    "\n",
    "    # Add real user prompt\n",
    "    messages.append({\"role\": \"user\", \"content\": current_prompt})\n",
    "\n",
    "    # Call the model\n",
    "    response = openai.chat.completions.create(\n",
    "        model=MODEL,\n",
    "        messages=messages,\n",
    "        response_format={\"type\": \"json_object\"}\n",
    "    )\n",
    "    \n",
    "    result = response.choices[0].message.content\n",
    "    return json.loads(result)\n"
   ]
  },
  {
   "cell_type": "markdown",
   "id": "1c2deaa5-4625-439c-a38f-173a9a6c51a6",
   "metadata": {},
   "source": [
    "## Second step: make the brochure!\n",
    "\n",
    "Assemble all the details into another prompt to GPT4-o"
   ]
  },
  {
   "cell_type": "code",
   "execution_count": 10,
   "id": "f87dc8ae-58cf-4349-9976-d6665b6d5f9c",
   "metadata": {},
   "outputs": [],
   "source": [
    "def get_all_details(url):\n",
    "    result = \"Landing page:\\n\"\n",
    "    result += Website(url).get_contents()\n",
    "    links = get_links(url)\n",
    "    print(\"Found links:\", links)\n",
    "    for link in links[\"links\"]:\n",
    "        result += f\"\\n\\n{link['type']}\\n\"\n",
    "        result += Website(link[\"url\"]).get_contents()\n",
    "    return result"
   ]
  },
  {
   "cell_type": "code",
   "execution_count": 11,
   "id": "388abfbe-0029-46c3-9687-cd987f5b400b",
   "metadata": {},
   "outputs": [],
   "source": [
    "system_prompt = \"You are an assistant that analyzes the contents of several relevant pages from a company website \\\n",
    "and creates a short brochure about the company for prospective customers, investors and recruits. Respond in markdown.\\\n",
    "Include details of company culture, customers and careers/jobs if you have the information.\"\n",
    "\n",
    "# Or uncomment the lines below for a more humorous brochure - this demonstrates how easy it is to incorporate 'tone':\n",
    "\n",
    "# system_prompt = \"You are an assistant that analyzes the contents of several relevant pages from a company website \\\n",
    "# and creates a short humorous, entertaining, jokey brochure about the company for prospective customers, investors and recruits. Respond in markdown.\\\n",
    "# Include details of company culture, customers and careers/jobs if you have the information.\""
   ]
  },
  {
   "cell_type": "code",
   "execution_count": 12,
   "id": "b51b5a62-975a-4f05-b4a0-947345a9f97e",
   "metadata": {},
   "outputs": [],
   "source": [
    "def get_brochure_user_prompt(company_name, url):\n",
    "    user_prompt = f\"You are looking at a company called: {company_name}\\n\"\n",
    "    user_prompt += f\"Here are the contents of its landing page and other relevant pages; use this information to build a short brochure of the company in markdown.\\n\"\n",
    "    user_prompt += get_all_details(url)\n",
    "    user_prompt = user_prompt[:5_000] # Truncate if more than 5,000 characters\n",
    "    return user_prompt"
   ]
  },
  {
   "cell_type": "code",
   "execution_count": 13,
   "id": "af6f92c1-39e7-47a7-bd55-9aed2d37b286",
   "metadata": {},
   "outputs": [],
   "source": [
    "def create_brochure(company_name, url):\n",
    "    response = openai.chat.completions.create(\n",
    "        model=MODEL,\n",
    "        messages=[\n",
    "            {\"role\": \"system\", \"content\": system_prompt},\n",
    "            {\"role\": \"user\", \"content\": get_brochure_user_prompt(company_name, url)}\n",
    "          ],\n",
    "    )\n",
    "    result = response.choices[0].message.content\n",
    "    display(Markdown(result))    \n",
    "    return result"
   ]
  },
  {
   "cell_type": "code",
   "execution_count": 14,
   "id": "6c78ed0f-36b8-42c8-b7a5-3b3bea10ddb0",
   "metadata": {},
   "outputs": [],
   "source": [
    "def translate_to_spanish(text):\n",
    "    response = openai.chat.completions.create(\n",
    "        model=MODEL,\n",
    "        messages=[\n",
    "            {\"role\": \"system\", \"content\": \"Translate the following markdown brochure to Spanish.\"},\n",
    "            {\"role\": \"user\", \"content\": text}\n",
    "        ]\n",
    "    )\n",
    "    result = response.choices[0].message.content\n",
    "    display(Markdown(result))"
   ]
  },
  {
   "cell_type": "code",
   "execution_count": 16,
   "id": "fd248c6f-0a29-481d-9ba2-262d9cf16968",
   "metadata": {},
   "outputs": [],
   "source": [
    "def translate_to_Hindi(text):\n",
    "    response = openai.chat.completions.create(\n",
    "        model=MODEL,\n",
    "        messages=[\n",
    "            {\"role\": \"system\", \"content\": \"Translate the following markdown brochure to Hindi.\"},\n",
    "            {\"role\": \"user\", \"content\": text}\n",
    "        ]\n",
    "    )\n",
    "    result = response.choices[0].message.content\n",
    "    display(Markdown(result))"
   ]
  },
  {
   "cell_type": "code",
   "execution_count": 17,
   "id": "c2d6b46e-1cdb-4eb7-bfbf-dc1440fe82b8",
   "metadata": {},
   "outputs": [
    {
     "name": "stdout",
     "output_type": "stream",
     "text": [
      "Found links: {'links': [{'type': 'about page', 'url': 'https://huggingface.co/'}, {'type': 'careers page', 'url': 'https://apply.workable.com/huggingface/'}, {'type': 'documentation page', 'url': 'https://huggingface.co/docs'}, {'type': 'blog page', 'url': 'https://huggingface.co/blog'}, {'type': 'community page', 'url': 'https://discuss.huggingface.co'}, {'type': 'GitHub page', 'url': 'https://github.com/huggingface'}, {'type': 'Twitter page', 'url': 'https://twitter.com/huggingface'}, {'type': 'LinkedIn page', 'url': 'https://www.linkedin.com/company/huggingface/'}]}\n"
     ]
    },
    {
     "data": {
      "text/markdown": [
       "# Hugging Face Brochure\n",
       "\n",
       "## About Us\n",
       "Welcome to **Hugging Face**, the heart of the AI community driving innovation for the future. We are a collaborative platform where machine learning enthusiasts and professionals come together to explore, create, and innovate. With over **1 million models** and **250,000 datasets**, we provide everything you need to unleash the power of AI.\n",
       "\n",
       "## Our Offerings\n",
       "\n",
       "### Models & Datasets\n",
       "- **1M+ Models**: A revolutionary library where you can browse trending machine learning models like Nanonets-OCRs and Google Magenta.\n",
       "- **250k+ Datasets**: Discover extensive datasets for various machine learning tasks.\n",
       "\n",
       "### Spaces\n",
       "Hugging Face Spaces is where creativity unfolds! Host, run, and showcase applications ranging from high-resolution 3D model generation to powerful code generation from text prompts.\n",
       "\n",
       "### Enterprise Solutions\n",
       "We offer enterprise-grade solutions to help teams accelerate their AI initiatives with dedicated support, access controls, and robust security. Starting at **$20/user/month**, our plans cater to businesses of all sizes.\n",
       "\n",
       "## Our Community\n",
       "With more than **50,000 organizations** relying on Hugging Face, including tech giants like Google, Microsoft, and Amazon, our community has an established network of users and contributors dedicated to advancing AI.\n",
       "\n",
       "### Engaged Collaborators\n",
       "- **Non-Profits**: Such as AI2, promoting ethical AI development.\n",
       "- **Technology Leaders**: Collaborations with organizations like Meta, Grammarly, and Intel emphasize our commitment to innovation and quality.\n",
       "\n",
       "## Company Culture\n",
       "At Hugging Face, we pride ourselves on fostering a vibrant and inclusive company culture that values collaboration, creativity, and transparency. Our team is passionate about technological advancement and is dedicated to building open-source tools that benefit everyone in the AI ecosystem.\n",
       "\n",
       "### Career Opportunities\n",
       "Join us in our mission to revolutionize AI development! We are always looking for talent across various fields. Explore our current openings and become part of a dynamic team pushing the boundaries. \n",
       "\n",
       "## Get Involved\n",
       "- **Explore AI Apps**: Jump right into machine learning by exploring our curated AI applications.\n",
       "- **Sign Up**: Create your profile and begin building, sharing, and collaborating on your own ML projects.\n",
       "\n",
       "For further information, visit our website and connect on social media platforms like GitHub, Twitter, LinkedIn, and Discord.\n",
       "\n",
       "---\n",
       "\n",
       "**Hugging Face: The AI Community Building the Future.**"
      ],
      "text/plain": [
       "<IPython.core.display.Markdown object>"
      ]
     },
     "metadata": {},
     "output_type": "display_data"
    },
    {
     "data": {
      "text/markdown": [
       "# Folleto de Hugging Face\n",
       "\n",
       "## Sobre Nosotros\n",
       "Bienvenido a **Hugging Face**, el corazón de la comunidad de IA que impulsa la innovación hacia el futuro. Somos una plataforma colaborativa donde entusiastas y profesionales del aprendizaje automático se reúnen para explorar, crear e innovar. Con más de **1 millón de modelos** y **250,000 conjuntos de datos**, proporcionamos todo lo que necesitas para liberar el poder de la IA.\n",
       "\n",
       "## Nuestras Ofertas\n",
       "\n",
       "### Modelos y Conjuntos de Datos\n",
       "- **Más de 1M de Modelos**: Una biblioteca revolucionaria donde puedes explorar modelos de aprendizaje automático de tendencia como Nanonets-OCRs y Google Magenta.\n",
       "- **Más de 250k Conjuntos de Datos**: Descubre conjuntos de datos extensos para diversas tareas de aprendizaje automático.\n",
       "\n",
       "### Espacios\n",
       "¡Hugging Face Spaces es donde se despliega la creatividad! Aloja, ejecuta y muestra aplicaciones que van desde la generación de modelos 3D de alta resolución hasta la generación de código potente a partir de indicaciones de texto.\n",
       "\n",
       "### Soluciones Empresariales\n",
       "Ofrecemos soluciones de nivel empresarial para ayudar a los equipos a acelerar sus iniciativas de IA con soporte dedicado, controles de acceso y seguridad robusta. A partir de **$20/usuario/mes**, nuestros planes se adaptan a empresas de todos los tamaños.\n",
       "\n",
       "## Nuestra Comunidad\n",
       "Con más de **50,000 organizaciones** confiando en Hugging Face, incluidas gigantes tecnológicos como Google, Microsoft y Amazon, nuestra comunidad cuenta con una red establecida de usuarios y contribuidores dedicados a avanzar en la IA.\n",
       "\n",
       "### Colaboradores Comprometidos\n",
       "- **Organizaciones sin Fines de Lucro**: Como AI2, promoviendo el desarrollo ético de la IA.\n",
       "- **Líderes Tecnológicos**: Colaboraciones con organizaciones como Meta, Grammarly e Intel enfatizan nuestro compromiso con la innovación y la calidad.\n",
       "\n",
       "## Cultura Empresarial\n",
       "En Hugging Face, nos enorgullecemos de fomentar una cultura empresarial vibrante e inclusiva que valora la colaboración, la creatividad y la transparencia. Nuestro equipo es apasionado por el avance tecnológico y está dedicado a construir herramientas de código abierto que beneficien a todos en el ecosistema de IA.\n",
       "\n",
       "### Oportunidades de Carrera\n",
       "¡Únete a nosotros en nuestra misión de revolucionar el desarrollo de la IA! Siempre estamos buscando talento en diversos campos. Explora nuestras ofertas actuales y conviértete en parte de un equipo dinámico que está empujando los límites.\n",
       "\n",
       "## Involúcrate\n",
       "- **Explora Aplicaciones de IA**: Sumérgete en el aprendizaje automático explorando nuestras aplicaciones de IA seleccionadas.\n",
       "- **Regístrate**: Crea tu perfil y comienza a construir, compartir y colaborar en tus propios proyectos de ML.\n",
       "\n",
       "Para más información, visita nuestro sitio web y conéctate en plataformas de redes sociales como GitHub, Twitter, LinkedIn y Discord.\n",
       "\n",
       "---\n",
       "\n",
       "**Hugging Face: La Comunidad de IA Construyendo el Futuro.**"
      ],
      "text/plain": [
       "<IPython.core.display.Markdown object>"
      ]
     },
     "metadata": {},
     "output_type": "display_data"
    },
    {
     "data": {
      "text/markdown": [
       "# हगिंग फेस ब्रोशर\n",
       "\n",
       "## हमारे बारे में\n",
       "**हगिंग फेस** में आपका स्वागत है, जो AI समुदाय के दिल में है और भविष्य के लिए नवाचार को बढ़ावा देता है। हम एक सहयोगी मंच हैं जहां मशीन लर्निंग के शौकीन और पेशेवर एक साथ आकर खोजते हैं, बनाते हैं और नवोन्मेष करते हैं। **1 मिलियन से अधिक मॉडल** और **250,000 डेटा सेट** के साथ, हम AI की शक्ति को उजागर करने के लिए आवश्यक सभी चीजें प्रदान करते हैं।\n",
       "\n",
       "## हमारी पेशकशें\n",
       "\n",
       "### मॉडल और डेटा सेट\n",
       "- **1M+ मॉडल**: एक क्रांतिकारी पुस्तकालय जहां आप Nanonets-OCRs और Google Magenta जैसे ट्रेंडिंग मशीन लर्निंग मॉडलों को ब्राउज़ कर सकते हैं।\n",
       "- **250k+ डेटा सेट**: विभिन्न मशीन लर्निंग कार्यों के लिए विशाल डेटा सेट खोजें।\n",
       "\n",
       "### स्पेस\n",
       "हगिंग फेस स्पेस वह जगह है जहां रचनात्मकता विकसित होती है! उच्च-रिज़ॉल्यूशन 3D मॉडल जनरेशन से लेकर टेक्स्ट प्रम्पट्स से कोड जनरेशन तक के APPLICATIONS को होस्ट, रन और प्रदर्शित करें।\n",
       "\n",
       "### एंटरप्राइज समाधान\n",
       "हम एंटरप्राइज-ग्रेड समाधान प्रदान करते हैं जो टीमों को समर्पित समर्थन, पहुंच नियंत्रण और मजबूत सुरक्षा के साथ अपने AI पहलों को तेज करने में मदद करते हैं। **$20/उपयोगकर्ता/महीने** से शुरू होने वाली हमारी योजनाएं सभी आकार के व्यवसायों के लिए हैं।\n",
       "\n",
       "## हमारा समुदाय\n",
       "**50,000 से अधिक संगठन** हगिंग फेस पर निर्भर हैं, जिनमें Google, Microsoft और Amazon जैसे तकनीकी दिग्गज शामिल हैं। हमारा समुदाय उपयोगकर्ताओं और योगदानकर्ताओं का एक स्थापित नेटवर्क है जो AI को उन्नत करने के लिए समर्पित है।\n",
       "\n",
       "### संलग्न सहयोगी\n",
       "- **गैर-लाभकारी संगठन**: जैसे AI2, नैतिक AI विकास को बढ़ावा देता है।\n",
       "- **तकनीकी नेता**: Meta, Grammarly, और Intel जैसी संगठनों के साथ सहयोग हमारे नवाचार और गुणवत्ता के प्रति समर्पण को उजागर करता है।\n",
       "\n",
       "## कंपनी संस्कृति\n",
       "हगिंग फेस में, हम एक जीवंत और समावेशी कंपनी संस्कृति को बढ़ावा देने पर गर्व करते हैं जो सहयोग, रचनात्मकता और पारदर्शिता को महत्व देती है। हमारी टीम तकनीकी उन्नति के प्रति उत्साही है और AI पारिस्थितिकी तंत्र में सभी के लिए फायदेमंद ओपन-सोर्स टूल बनाने के लिए समर्पित है।\n",
       "\n",
       "### करियर के अवसर\n",
       "AI विकास में क्रांति लाने के हमारे मिशन में हमारे साथ शामिल हों! हम विभिन्न क्षेत्रों में प्रतिभा की हमेशा तलाश करते हैं। हमारे वर्तमान पदों को खोजें और एक गतिशील टीम का हिस्सा बनें जो सीमाओं को खींच रही है।\n",
       "\n",
       "## संलग्न हों\n",
       "- **AI ऐप्स का अन्वेषण करें**: हमारे क्यूरेटेड AI एप्लिकेशन को खोजकर मशीन लर्निंग में तुरंत कूदें।\n",
       "- **साइन अप करें**: अपने प्रोफ़ाइल को बनाएँ और अपने स्वयं के ML प्रोजेक्ट्स पर निर्माण, साझा करने और सहयोग करना शुरू करें।\n",
       "\n",
       "अधिक जानकारी के लिए, हमारी वेबसाइट पर जाएं और GitHub, Twitter, LinkedIn और Discord जैसे सोशल मीडिया प्लेटफार्मों पर जुड़ें।\n",
       "\n",
       "---\n",
       "\n",
       "**हगिंग फेस: AI समुदाय जो भविष्य का निर्माण कर रहा है।**"
      ],
      "text/plain": [
       "<IPython.core.display.Markdown object>"
      ]
     },
     "metadata": {},
     "output_type": "display_data"
    }
   ],
   "source": [
    "# --- EXECUTION ---\n",
    "brochure_md = create_brochure(\"Hugging Face\", \"https://huggingface.co\")\n",
    "translate_to_spanish(brochure_md)\n",
    "translate_to_Hindi(brochure_md)"
   ]
  },
  {
   "cell_type": "code",
   "execution_count": null,
   "id": "b3866209-1fc4-4b8c-aff3-641102957f8d",
   "metadata": {},
   "outputs": [],
   "source": []
  }
 ],
 "metadata": {
  "kernelspec": {
   "display_name": "Python 3 (ipykernel)",
   "language": "python",
   "name": "python3"
  },
  "language_info": {
   "codemirror_mode": {
    "name": "ipython",
    "version": 3
   },
   "file_extension": ".py",
   "mimetype": "text/x-python",
   "name": "python",
   "nbconvert_exporter": "python",
   "pygments_lexer": "ipython3",
   "version": "3.11.13"
  }
 },
 "nbformat": 4,
 "nbformat_minor": 5
}
