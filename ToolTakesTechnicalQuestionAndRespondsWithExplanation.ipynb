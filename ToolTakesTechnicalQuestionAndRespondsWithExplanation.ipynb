{
 "cells": [
  {
   "cell_type": "markdown",
   "id": "fe12c203-e6a6-452c-a655-afb8a03a4ff5",
   "metadata": {},
   "source": [
    "## OpenAI API, and also Ollama, build a tool that takes a technical question, and responds with an explanation."
   ]
  },
  {
   "cell_type": "code",
   "execution_count": 1,
   "id": "c1070317-3ed9-4659-abe3-828943230e03",
   "metadata": {},
   "outputs": [],
   "source": [
    "# imports\n",
    "import os\n",
    "import ollama\n",
    "import openai\n",
    "\n",
    "from dotenv import load_dotenv"
   ]
  },
  {
   "cell_type": "code",
   "execution_count": 2,
   "id": "a8d7923c-5f28-4c30-8556-342d7c8497c1",
   "metadata": {},
   "outputs": [
    {
     "name": "stdout",
     "output_type": "stream",
     "text": [
      "API key looks good so far\n"
     ]
    }
   ],
   "source": [
    "# Initialize and constants\n",
    "\n",
    "load_dotenv(override=True)\n",
    "api_key = os.getenv('OPENAI_API_KEY')\n",
    "\n",
    "if api_key and api_key.startswith('sk-proj-') and len(api_key)>10:\n",
    "    print(\"API key looks good so far\")\n",
    "else:\n",
    "    print(\"There might be a problem with your API key? Please visit the troubleshooting notebook!\")\n",
    "    \n",
    "MODEL_GPT = 'gpt-4o-mini'\n",
    "MODEL_LLAMA = 'llama3.2'"
   ]
  },
  {
   "cell_type": "code",
   "execution_count": 3,
   "id": "3f0d0137-52b0-47a8-81a8-11a90a010798",
   "metadata": {},
   "outputs": [],
   "source": [
    "# Few-shot examples for multi-shot prompting\n",
    "examples = [\n",
    "    {\n",
    "        \"question\": \"What is the difference between a list and a tuple in Python?\",\n",
    "        \"answer\": \"Lists are mutable, meaning their elements can be changed, while tuples are immutable. Lists use square brackets [], tuples use parentheses ().\"\n",
    "    },\n",
    "    {\n",
    "        \"question\": \"What does the 'yield' keyword do in Python?\",\n",
    "        \"answer\": \"The 'yield' keyword is used to create a generator. It returns a value and pauses the function saving its state for future iterations.\"\n",
    "    }\n",
    "]"
   ]
  },
  {
   "cell_type": "code",
   "execution_count": 4,
   "id": "08758217-76d1-42a8-8e9f-a2ad9a013ecb",
   "metadata": {},
   "outputs": [],
   "source": [
    "# here is the question; type over this to ask something new\n",
    "user_question = \"\"\"\n",
    "                Please explain what this code does and why:\n",
    "                yield from {book.get(\"author\") for book in books if book.get(\"author\")}\n",
    "                \"\"\""
   ]
  },
  {
   "cell_type": "code",
   "execution_count": 5,
   "id": "fc16d4a6-8a0e-4201-8d61-826d0975a6e7",
   "metadata": {},
   "outputs": [],
   "source": [
    "# Build multi-shot prompt\n",
    "prompt = \"Answer the technical question based on the examples:\\n\\n\"\n",
    "\n",
    "for ex in examples:\n",
    "    prompt += f\"Q: {ex['question']}\\nA: {ex['answer']}\\n\\n\""
   ]
  },
  {
   "cell_type": "code",
   "execution_count": 6,
   "id": "8196cd11-1331-4d0f-a23a-5f51d5eb6de0",
   "metadata": {},
   "outputs": [],
   "source": [
    "prompt += f\"Q: {user_question}\\nA:\""
   ]
  },
  {
   "cell_type": "markdown",
   "id": "640e8752-778b-4ff2-ac69-54b945b1f5df",
   "metadata": {},
   "source": [
    "### Get the response from the 'gpt-4o-mini'"
   ]
  },
  {
   "cell_type": "code",
   "execution_count": 7,
   "id": "60ce7000-a4a5-4cce-a261-e75ef45063b4",
   "metadata": {},
   "outputs": [],
   "source": [
    "# Get gpt-4o-mini to answer, with streaming\n",
    "response = openai.chat.completions.create(\n",
    "        model=MODEL_GPT,\n",
    "        messages=[{\"role\": \"user\", \"content\": prompt}],\n",
    "        temperature=0.5,\n",
    "    )"
   ]
  },
  {
   "cell_type": "code",
   "execution_count": 8,
   "id": "6c6364fc-be89-4312-bc5a-85f3fc2369b7",
   "metadata": {},
   "outputs": [
    {
     "name": "stdout",
     "output_type": "stream",
     "text": [
      "Answer: The code `yield from {book.get(\"author\") for book in books if book.get(\"author\")}` is using a generator to yield values from a set comprehension.\n",
      "\n",
      "Here's a breakdown of what it does:\n",
      "\n",
      "1. **Set Comprehension**: The expression `{book.get(\"author\") for book in books if book.get(\"author\")}` creates a set of authors from a collection of `books`. It iterates over each `book` in the `books` iterable and retrieves the value associated with the key `\"author\"` using the `get` method. The condition `if book.get(\"author\")` ensures that only books with a valid (non-None) author are included in the set.\n",
      "\n",
      "2. **Yield from**: The `yield from` statement is used to yield all values from the iterable that follows it—in this case, the set of authors created by the set comprehension. This means that each author in the set will be yielded one by one when the generator function is called.\n",
      "\n",
      "3. **Why Use This Code**: Using `yield from` allows the function to produce a sequence of authors without needing to explicitly loop through the set and yield each author individually. It simplifies the code and makes it more readable.\n",
      "\n",
      "Overall, this code effectively generates a unique list of authors from a collection of books, yielding each author one at a time when the generator is iterated over.\n"
     ]
    }
   ],
   "source": [
    "# Print the answer\n",
    "print(\"Answer:\", response.choices[0].message.content)"
   ]
  },
  {
   "cell_type": "code",
   "execution_count": 9,
   "id": "810a1239-7f6a-4a03-a421-3ea00a758f28",
   "metadata": {},
   "outputs": [],
   "source": [
    "# here is the question; type over this to ask something new\n",
    "user_question = \"Please explain what this code does and why, yield from {book.get('author') for book in books if book.get('author')}\""
   ]
  },
  {
   "cell_type": "code",
   "execution_count": 10,
   "id": "cbd852b4-e8d7-46b7-b97e-0c17fb3707f2",
   "metadata": {},
   "outputs": [],
   "source": [
    "# Create a messages list using the same format that we used for OpenAI\n",
    "\n",
    "messages = [\n",
    "    {\"role\": \"user\", \"content\": user_question}\n",
    "]"
   ]
  },
  {
   "cell_type": "markdown",
   "id": "d97e2a17-11d8-439e-83eb-fbd063cb4b6d",
   "metadata": {},
   "source": [
    "### Get the response from 'llama3.2'"
   ]
  },
  {
   "cell_type": "code",
   "execution_count": 11,
   "id": "12aba4bb-4179-4365-a368-0cc980987997",
   "metadata": {},
   "outputs": [
    {
     "name": "stdout",
     "output_type": "stream",
     "text": [
      "This line of code is using a feature called \"yield from\" which was introduced in Python 3.3. Let's break it down:\n",
      "\n",
      "1. `yield from`: This keyword allows you to delegate the iteration over another iterable (in this case, an expression) to a generator.\n",
      "\n",
      "2. `{book.get('author') for book in books if book.get('author')}`: This is a dictionary comprehension which iterates over each key-value pair in the `books` dictionary where the value is not empty (i.e., it has a 'author' key).\n",
      "\n",
      "3. `yield from`: When you use this keyword before an expression that is itself an iterable, Python creates a generator object that will yield results one at a time.\n",
      "\n",
      "So when you put them together, `yield from {book.get('author') for book in books if book.get('author')}` essentially becomes:\n",
      "\n",
      "- Iterate over each key-value pair in the `books` dictionary where the value is not empty.\n",
      "- For each of these pairs, get and yield the 'author' value.\n",
      "\n",
      "This means that instead of having to write a separate loop to iterate over the books and then access their author, you can do it all in one line.\n",
      "\n",
      "Here's an example:\n",
      "\n",
      "```python\n",
      "# Define a function\n",
      "def get_authors(books):\n",
      "    return {book.get('author') for book in books if book.get('author')}\n",
      "\n",
      "# Use the function with yield from\n",
      "def get_authors_with_yield_from(books):\n",
      "    return list(yield from get_authors(books))\n",
      "\n",
      "# Example usage:\n",
      "books = {\n",
      "    'book1': {'author': 'John Doe'},\n",
      "    'book2': {},\n",
      "    'book3': {'author': 'Jane Smith'}\n",
      "}\n",
      "\n",
      "print(get_authors_with_yield_from(books))  # Output: ['John Doe', 'Jane Smith']\n",
      "```\n",
      "\n",
      "In this example, the `get_authors` function uses a dictionary comprehension to get the authors of the books. The `get_authors_with_yield_from` function then uses `yield from` to delegate the iteration over the results of `get_authors` to a generator expression and returns it as a list.\n"
     ]
    }
   ],
   "source": [
    "response = ollama.chat(model=MODEL_LLAMA, messages=messages)\n",
    "print(response['message']['content'])"
   ]
  },
  {
   "cell_type": "code",
   "execution_count": null,
   "id": "414b36e1-6908-41dd-85ee-98955eafc007",
   "metadata": {},
   "outputs": [],
   "source": []
  }
 ],
 "metadata": {
  "kernelspec": {
   "display_name": "Python 3 (ipykernel)",
   "language": "python",
   "name": "python3"
  },
  "language_info": {
   "codemirror_mode": {
    "name": "ipython",
    "version": 3
   },
   "file_extension": ".py",
   "mimetype": "text/x-python",
   "name": "python",
   "nbconvert_exporter": "python",
   "pygments_lexer": "ipython3",
   "version": "3.11.13"
  }
 },
 "nbformat": 4,
 "nbformat_minor": 5
}
